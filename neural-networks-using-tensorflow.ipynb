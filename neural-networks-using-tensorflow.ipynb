{
 "cells": [
  {
   "cell_type": "markdown",
   "id": "121239a2",
   "metadata": {
    "papermill": {
     "duration": 0.006013,
     "end_time": "2023-04-26T04:33:08.525781",
     "exception": false,
     "start_time": "2023-04-26T04:33:08.519768",
     "status": "completed"
    },
    "tags": []
   },
   "source": [
    "# Install Tensorflow\n",
    "* terminal/zsh/cmd command\n",
    "\n",
    "\n",
    "* pip\n",
    "\n",
    "\n",
    "pip install tensorflow --upgrade\n",
    "\n",
    "* conda\n",
    "\n",
    "\n",
    "conda install -c conda-forge tensorflow\n",
    "\n",
    "\n",
    "%tensorflow_version 2.x"
   ]
  },
  {
   "cell_type": "markdown",
   "id": "8f545903",
   "metadata": {
    "papermill": {
     "duration": 0.004636,
     "end_time": "2023-04-26T04:33:08.535447",
     "exception": false,
     "start_time": "2023-04-26T04:33:08.530811",
     "status": "completed"
    },
    "tags": []
   },
   "source": [
    "# Download and Read the Data"
   ]
  },
  {
   "cell_type": "code",
   "execution_count": 1,
   "id": "a22d495b",
   "metadata": {
    "execution": {
     "iopub.execute_input": "2023-04-26T04:33:08.547578Z",
     "iopub.status.busy": "2023-04-26T04:33:08.547023Z",
     "iopub.status.idle": "2023-04-26T04:33:08.611461Z",
     "shell.execute_reply": "2023-04-26T04:33:08.610123Z"
    },
    "papermill": {
     "duration": 0.074383,
     "end_time": "2023-04-26T04:33:08.614710",
     "exception": false,
     "start_time": "2023-04-26T04:33:08.540327",
     "status": "completed"
    },
    "tags": []
   },
   "outputs": [
    {
     "data": {
      "text/html": [
       "<div>\n",
       "<style scoped>\n",
       "    .dataframe tbody tr th:only-of-type {\n",
       "        vertical-align: middle;\n",
       "    }\n",
       "\n",
       "    .dataframe tbody tr th {\n",
       "        vertical-align: top;\n",
       "    }\n",
       "\n",
       "    .dataframe thead th {\n",
       "        text-align: right;\n",
       "    }\n",
       "</style>\n",
       "<table border=\"1\" class=\"dataframe\">\n",
       "  <thead>\n",
       "    <tr style=\"text-align: right;\">\n",
       "      <th></th>\n",
       "      <th>fixed acidity</th>\n",
       "      <th>volatile acidity</th>\n",
       "      <th>citric acid</th>\n",
       "      <th>residual sugar</th>\n",
       "      <th>chlorides</th>\n",
       "      <th>free sulfur dioxide</th>\n",
       "      <th>total sulfur dioxide</th>\n",
       "      <th>density</th>\n",
       "      <th>pH</th>\n",
       "      <th>sulphates</th>\n",
       "      <th>alcohol</th>\n",
       "      <th>quality</th>\n",
       "    </tr>\n",
       "  </thead>\n",
       "  <tbody>\n",
       "    <tr>\n",
       "      <th>0</th>\n",
       "      <td>7.4</td>\n",
       "      <td>0.70</td>\n",
       "      <td>0.00</td>\n",
       "      <td>1.9</td>\n",
       "      <td>0.076</td>\n",
       "      <td>11.0</td>\n",
       "      <td>34.0</td>\n",
       "      <td>0.9978</td>\n",
       "      <td>3.51</td>\n",
       "      <td>0.56</td>\n",
       "      <td>9.4</td>\n",
       "      <td>5</td>\n",
       "    </tr>\n",
       "    <tr>\n",
       "      <th>1</th>\n",
       "      <td>7.8</td>\n",
       "      <td>0.88</td>\n",
       "      <td>0.00</td>\n",
       "      <td>2.6</td>\n",
       "      <td>0.098</td>\n",
       "      <td>25.0</td>\n",
       "      <td>67.0</td>\n",
       "      <td>0.9968</td>\n",
       "      <td>3.20</td>\n",
       "      <td>0.68</td>\n",
       "      <td>9.8</td>\n",
       "      <td>5</td>\n",
       "    </tr>\n",
       "    <tr>\n",
       "      <th>2</th>\n",
       "      <td>7.8</td>\n",
       "      <td>0.76</td>\n",
       "      <td>0.04</td>\n",
       "      <td>2.3</td>\n",
       "      <td>0.092</td>\n",
       "      <td>15.0</td>\n",
       "      <td>54.0</td>\n",
       "      <td>0.9970</td>\n",
       "      <td>3.26</td>\n",
       "      <td>0.65</td>\n",
       "      <td>9.8</td>\n",
       "      <td>5</td>\n",
       "    </tr>\n",
       "    <tr>\n",
       "      <th>3</th>\n",
       "      <td>11.2</td>\n",
       "      <td>0.28</td>\n",
       "      <td>0.56</td>\n",
       "      <td>1.9</td>\n",
       "      <td>0.075</td>\n",
       "      <td>17.0</td>\n",
       "      <td>60.0</td>\n",
       "      <td>0.9980</td>\n",
       "      <td>3.16</td>\n",
       "      <td>0.58</td>\n",
       "      <td>9.8</td>\n",
       "      <td>6</td>\n",
       "    </tr>\n",
       "    <tr>\n",
       "      <th>4</th>\n",
       "      <td>7.4</td>\n",
       "      <td>0.70</td>\n",
       "      <td>0.00</td>\n",
       "      <td>1.9</td>\n",
       "      <td>0.076</td>\n",
       "      <td>11.0</td>\n",
       "      <td>34.0</td>\n",
       "      <td>0.9978</td>\n",
       "      <td>3.51</td>\n",
       "      <td>0.56</td>\n",
       "      <td>9.4</td>\n",
       "      <td>5</td>\n",
       "    </tr>\n",
       "  </tbody>\n",
       "</table>\n",
       "</div>"
      ],
      "text/plain": [
       "   fixed acidity  volatile acidity  citric acid  residual sugar  chlorides  \\\n",
       "0            7.4              0.70         0.00             1.9      0.076   \n",
       "1            7.8              0.88         0.00             2.6      0.098   \n",
       "2            7.8              0.76         0.04             2.3      0.092   \n",
       "3           11.2              0.28         0.56             1.9      0.075   \n",
       "4            7.4              0.70         0.00             1.9      0.076   \n",
       "\n",
       "   free sulfur dioxide  total sulfur dioxide  density    pH  sulphates  \\\n",
       "0                 11.0                  34.0   0.9978  3.51       0.56   \n",
       "1                 25.0                  67.0   0.9968  3.20       0.68   \n",
       "2                 15.0                  54.0   0.9970  3.26       0.65   \n",
       "3                 17.0                  60.0   0.9980  3.16       0.58   \n",
       "4                 11.0                  34.0   0.9978  3.51       0.56   \n",
       "\n",
       "   alcohol  quality  \n",
       "0      9.4        5  \n",
       "1      9.8        5  \n",
       "2      9.8        5  \n",
       "3      9.8        6  \n",
       "4      9.4        5  "
      ]
     },
     "execution_count": 1,
     "metadata": {},
     "output_type": "execute_result"
    }
   ],
   "source": [
    "import numpy as np\n",
    "import pandas as pd\n",
    "\n",
    "# be sure to change the file path\n",
    "# if you have the dataset in another\n",
    "# directly than the working folder\n",
    "df = pd.read_csv('/kaggle/input/red-wine-quality-cortez-et-al-2009/winequality-red.csv')\n",
    "\n",
    "df.head()\n"
   ]
  },
  {
   "cell_type": "markdown",
   "id": "00fee3a4",
   "metadata": {
    "papermill": {
     "duration": 0.005021,
     "end_time": "2023-04-26T04:33:08.625250",
     "exception": false,
     "start_time": "2023-04-26T04:33:08.620229",
     "status": "completed"
    },
    "tags": []
   },
   "source": [
    "# Data Preprocessing/ Splitting into Train/Valid/Test Set"
   ]
  },
  {
   "cell_type": "code",
   "execution_count": 2,
   "id": "048376b3",
   "metadata": {
    "_cell_guid": "b1076dfc-b9ad-4769-8c92-a6c4dae69d19",
    "_uuid": "8f2839f25d086af736a60e9eeb907d3b93b6e0e5",
    "execution": {
     "iopub.execute_input": "2023-04-26T04:33:08.637704Z",
     "iopub.status.busy": "2023-04-26T04:33:08.637306Z",
     "iopub.status.idle": "2023-04-26T04:33:17.339185Z",
     "shell.execute_reply": "2023-04-26T04:33:17.338046Z"
    },
    "papermill": {
     "duration": 8.711604,
     "end_time": "2023-04-26T04:33:17.342029",
     "exception": false,
     "start_time": "2023-04-26T04:33:08.630425",
     "status": "completed"
    },
    "tags": []
   },
   "outputs": [],
   "source": [
    "import tensorflow as tf\n",
    "\n",
    "# 75% of the data is selected\n",
    "train_df = df.sample(frac=0.75, random_state=4)\n",
    "\n",
    "# it drops the training data\n",
    "# from the original dataframe\n",
    "val_df = df.drop(train_df.index)\n"
   ]
  },
  {
   "cell_type": "code",
   "execution_count": 3,
   "id": "f6352e5a",
   "metadata": {
    "execution": {
     "iopub.execute_input": "2023-04-26T04:33:17.354931Z",
     "iopub.status.busy": "2023-04-26T04:33:17.354188Z",
     "iopub.status.idle": "2023-04-26T04:33:17.366033Z",
     "shell.execute_reply": "2023-04-26T04:33:17.364950Z"
    },
    "papermill": {
     "duration": 0.021336,
     "end_time": "2023-04-26T04:33:17.368631",
     "exception": false,
     "start_time": "2023-04-26T04:33:17.347295",
     "status": "completed"
    },
    "tags": []
   },
   "outputs": [],
   "source": [
    "# calling to (0,1) range\n",
    "max_val = train_df.max(axis= 0)\n",
    "min_val = train_df.min(axis= 0)\n",
    "\n",
    "range = max_val - min_val\n",
    "train_df = (train_df - min_val)/(range)\n",
    "\n",
    "val_df = (val_df- min_val)/range\n"
   ]
  },
  {
   "cell_type": "code",
   "execution_count": 4,
   "id": "815538d0",
   "metadata": {
    "execution": {
     "iopub.execute_input": "2023-04-26T04:33:17.380800Z",
     "iopub.status.busy": "2023-04-26T04:33:17.380411Z",
     "iopub.status.idle": "2023-04-26T04:33:17.394427Z",
     "shell.execute_reply": "2023-04-26T04:33:17.393053Z"
    },
    "papermill": {
     "duration": 0.02312,
     "end_time": "2023-04-26T04:33:17.396944",
     "exception": false,
     "start_time": "2023-04-26T04:33:17.373824",
     "status": "completed"
    },
    "tags": []
   },
   "outputs": [
    {
     "data": {
      "text/plain": [
       "[11]"
      ]
     },
     "execution_count": 4,
     "metadata": {},
     "output_type": "execute_result"
    }
   ],
   "source": [
    "# now let's separate the targets and labels\n",
    "X_train = train_df.drop('quality',axis=1)\n",
    "X_val = val_df.drop('quality',axis=1)\n",
    "y_train = train_df['quality']\n",
    "y_val = val_df['quality']\n",
    "\n",
    "# We'll need to pass the shape\n",
    "# of features/inputs as an argument\n",
    "# in our model, so let's define a variable\n",
    "# to save it.\n",
    "input_shape = [X_train.shape[1]]\n",
    "\n",
    "input_shape\n"
   ]
  },
  {
   "cell_type": "markdown",
   "id": "14d46d18",
   "metadata": {
    "papermill": {
     "duration": 0.005027,
     "end_time": "2023-04-26T04:33:17.407294",
     "exception": false,
     "start_time": "2023-04-26T04:33:17.402267",
     "status": "completed"
    },
    "tags": []
   },
   "source": [
    "# Create Model Neural Network\n",
    "## Create a linear Model"
   ]
  },
  {
   "cell_type": "code",
   "execution_count": 5,
   "id": "f9247527",
   "metadata": {
    "execution": {
     "iopub.execute_input": "2023-04-26T04:33:17.419643Z",
     "iopub.status.busy": "2023-04-26T04:33:17.419238Z",
     "iopub.status.idle": "2023-04-26T04:33:17.600401Z",
     "shell.execute_reply": "2023-04-26T04:33:17.599072Z"
    },
    "papermill": {
     "duration": 0.193684,
     "end_time": "2023-04-26T04:33:17.606143",
     "exception": false,
     "start_time": "2023-04-26T04:33:17.412459",
     "status": "completed"
    },
    "tags": []
   },
   "outputs": [
    {
     "name": "stdout",
     "output_type": "stream",
     "text": [
      "Model: \"sequential\"\n",
      "_________________________________________________________________\n",
      " Layer (type)                Output Shape              Param #   \n",
      "=================================================================\n",
      " dense (Dense)               (None, 1)                 12        \n",
      "                                                                 \n",
      "=================================================================\n",
      "Total params: 12\n",
      "Trainable params: 12\n",
      "Non-trainable params: 0\n",
      "_________________________________________________________________\n"
     ]
    }
   ],
   "source": [
    "model = tf.keras.Sequential([\n",
    "tf.keras.layers.Dense(units=1,input_shape=input_shape)])\n",
    "\n",
    "# after you create your model it's\n",
    "# always a good habit to print out it's summary\n",
    "model.summary()\n"
   ]
  },
  {
   "cell_type": "code",
   "execution_count": 6,
   "id": "d8deeffe",
   "metadata": {
    "execution": {
     "iopub.execute_input": "2023-04-26T04:33:17.619877Z",
     "iopub.status.busy": "2023-04-26T04:33:17.619498Z",
     "iopub.status.idle": "2023-04-26T04:33:17.649599Z",
     "shell.execute_reply": "2023-04-26T04:33:17.648147Z"
    },
    "papermill": {
     "duration": 0.041193,
     "end_time": "2023-04-26T04:33:17.653205",
     "exception": false,
     "start_time": "2023-04-26T04:33:17.612012",
     "status": "completed"
    },
    "tags": []
   },
   "outputs": [
    {
     "name": "stdout",
     "output_type": "stream",
     "text": [
      "Model: \"sequential_1\"\n",
      "_________________________________________________________________\n",
      " Layer (type)                Output Shape              Param #   \n",
      "=================================================================\n",
      " dense_1 (Dense)             (None, 1)                 12        \n",
      "                                                                 \n",
      "=================================================================\n",
      "Total params: 12\n",
      "Trainable params: 12\n",
      "Non-trainable params: 0\n",
      "_________________________________________________________________\n"
     ]
    }
   ],
   "source": [
    "model = tf.keras.Sequential([\n",
    "tf.keras.layers.Dense(units=1,input_shape=input_shape)])\n",
    "\n",
    "# after you create your model it's\n",
    "# always a good habit to print out it's summary\n",
    "model.summary()"
   ]
  },
  {
   "cell_type": "markdown",
   "id": "25fca0dd",
   "metadata": {
    "papermill": {
     "duration": 0.006227,
     "end_time": "2023-04-26T04:33:17.665964",
     "exception": false,
     "start_time": "2023-04-26T04:33:17.659737",
     "status": "completed"
    },
    "tags": []
   },
   "source": [
    "## Creating a Multilayered Neural Network"
   ]
  },
  {
   "cell_type": "code",
   "execution_count": 7,
   "id": "eb078dc6",
   "metadata": {
    "execution": {
     "iopub.execute_input": "2023-04-26T04:33:17.681079Z",
     "iopub.status.busy": "2023-04-26T04:33:17.680585Z",
     "iopub.status.idle": "2023-04-26T04:33:17.747241Z",
     "shell.execute_reply": "2023-04-26T04:33:17.745127Z"
    },
    "papermill": {
     "duration": 0.080471,
     "end_time": "2023-04-26T04:33:17.752778",
     "exception": false,
     "start_time": "2023-04-26T04:33:17.672307",
     "status": "completed"
    },
    "tags": []
   },
   "outputs": [
    {
     "name": "stdout",
     "output_type": "stream",
     "text": [
      "Model: \"sequential_2\"\n",
      "_________________________________________________________________\n",
      " Layer (type)                Output Shape              Param #   \n",
      "=================================================================\n",
      " dense_2 (Dense)             (None, 64)                768       \n",
      "                                                                 \n",
      " dense_3 (Dense)             (None, 64)                4160      \n",
      "                                                                 \n",
      " dense_4 (Dense)             (None, 1)                 65        \n",
      "                                                                 \n",
      "=================================================================\n",
      "Total params: 4,993\n",
      "Trainable params: 4,993\n",
      "Non-trainable params: 0\n",
      "_________________________________________________________________\n"
     ]
    }
   ],
   "source": [
    "model = tf.keras.Sequential([\n",
    "\n",
    "\ttf.keras.layers.Dense(units=64, activation='relu',\n",
    "\t\t\t\t\t\tinput_shape=input_shape),\n",
    "\ttf.keras.layers.Dense(units=64, activation='relu'),\n",
    "\ttf.keras.layers.Dense(units=1)\n",
    "])\n",
    "model.summary()\n"
   ]
  },
  {
   "cell_type": "code",
   "execution_count": 8,
   "id": "0dd64c0a",
   "metadata": {
    "execution": {
     "iopub.execute_input": "2023-04-26T04:33:17.770955Z",
     "iopub.status.busy": "2023-04-26T04:33:17.769881Z",
     "iopub.status.idle": "2023-04-26T04:33:17.788674Z",
     "shell.execute_reply": "2023-04-26T04:33:17.787398Z"
    },
    "papermill": {
     "duration": 0.030329,
     "end_time": "2023-04-26T04:33:17.791525",
     "exception": false,
     "start_time": "2023-04-26T04:33:17.761196",
     "status": "completed"
    },
    "tags": []
   },
   "outputs": [],
   "source": [
    "# adam optimizer works pretty well for\n",
    "# all kinds of problems and is a good starting point\n",
    "model.compile(optimizer='adam',\n",
    "\t\t\t\n",
    "\t\t\t# MAE error is good for\n",
    "\t\t\t# numerical predictions\n",
    "\t\t\tloss='mae')\n"
   ]
  },
  {
   "cell_type": "markdown",
   "id": "e182efaf",
   "metadata": {
    "papermill": {
     "duration": 0.007162,
     "end_time": "2023-04-26T04:33:17.806719",
     "exception": false,
     "start_time": "2023-04-26T04:33:17.799557",
     "status": "completed"
    },
    "tags": []
   },
   "source": [
    "# Training The Model"
   ]
  },
  {
   "cell_type": "code",
   "execution_count": 9,
   "id": "e6d1ca2c",
   "metadata": {
    "execution": {
     "iopub.execute_input": "2023-04-26T04:33:17.823315Z",
     "iopub.status.busy": "2023-04-26T04:33:17.822868Z",
     "iopub.status.idle": "2023-04-26T04:33:20.053877Z",
     "shell.execute_reply": "2023-04-26T04:33:20.052506Z"
    },
    "papermill": {
     "duration": 2.242781,
     "end_time": "2023-04-26T04:33:20.056926",
     "exception": false,
     "start_time": "2023-04-26T04:33:17.814145",
     "status": "completed"
    },
    "tags": []
   },
   "outputs": [
    {
     "name": "stdout",
     "output_type": "stream",
     "text": [
      "Epoch 1/15\n",
      "5/5 [==============================] - 1s 52ms/step - loss: 0.6698 - val_loss: 0.5303\n",
      "Epoch 2/15\n",
      "5/5 [==============================] - 0s 9ms/step - loss: 0.4612 - val_loss: 0.3342\n",
      "Epoch 3/15\n",
      "5/5 [==============================] - 0s 9ms/step - loss: 0.2658 - val_loss: 0.1557\n",
      "Epoch 4/15\n",
      "5/5 [==============================] - 0s 9ms/step - loss: 0.1432 - val_loss: 0.1449\n",
      "Epoch 5/15\n",
      "5/5 [==============================] - 0s 9ms/step - loss: 0.1604 - val_loss: 0.1678\n",
      "Epoch 6/15\n",
      "5/5 [==============================] - 0s 10ms/step - loss: 0.1617 - val_loss: 0.1440\n",
      "Epoch 7/15\n",
      "5/5 [==============================] - 0s 13ms/step - loss: 0.1394 - val_loss: 0.1312\n",
      "Epoch 8/15\n",
      "5/5 [==============================] - 0s 12ms/step - loss: 0.1318 - val_loss: 0.1305\n",
      "Epoch 9/15\n",
      "5/5 [==============================] - 0s 9ms/step - loss: 0.1323 - val_loss: 0.1294\n",
      "Epoch 10/15\n",
      "5/5 [==============================] - 0s 10ms/step - loss: 0.1306 - val_loss: 0.1262\n",
      "Epoch 11/15\n",
      "5/5 [==============================] - 0s 9ms/step - loss: 0.1267 - val_loss: 0.1232\n",
      "Epoch 12/15\n",
      "5/5 [==============================] - 0s 9ms/step - loss: 0.1233 - val_loss: 0.1217\n",
      "Epoch 13/15\n",
      "5/5 [==============================] - 0s 10ms/step - loss: 0.1210 - val_loss: 0.1191\n",
      "Epoch 14/15\n",
      "5/5 [==============================] - 0s 9ms/step - loss: 0.1182 - val_loss: 0.1160\n",
      "Epoch 15/15\n",
      "5/5 [==============================] - 0s 10ms/step - loss: 0.1158 - val_loss: 0.1144\n"
     ]
    }
   ],
   "source": [
    "losses = model.fit(X_train, y_train,\n",
    "\n",
    "\t\t\t\tvalidation_data=(X_val, y_val),\n",
    "\t\t\t\t\t\n",
    "\t\t\t\t# it will use 'batch_size' number\n",
    "\t\t\t\t# of examples per example\n",
    "\t\t\t\tbatch_size=256,\n",
    "\t\t\t\tepochs=15, # total epoch\n",
    "\n",
    "\t\t\t\t)\n"
   ]
  },
  {
   "cell_type": "markdown",
   "id": "02c1f2af",
   "metadata": {
    "papermill": {
     "duration": 0.010074,
     "end_time": "2023-04-26T04:33:20.077479",
     "exception": false,
     "start_time": "2023-04-26T04:33:20.067405",
     "status": "completed"
    },
    "tags": []
   },
   "source": [
    "# Generate Predictions and Analyze Accuracy"
   ]
  },
  {
   "cell_type": "code",
   "execution_count": 10,
   "id": "f4dce9c9",
   "metadata": {
    "execution": {
     "iopub.execute_input": "2023-04-26T04:33:20.100241Z",
     "iopub.status.busy": "2023-04-26T04:33:20.099322Z",
     "iopub.status.idle": "2023-04-26T04:33:20.256786Z",
     "shell.execute_reply": "2023-04-26T04:33:20.255798Z"
    },
    "papermill": {
     "duration": 0.171767,
     "end_time": "2023-04-26T04:33:20.259574",
     "exception": false,
     "start_time": "2023-04-26T04:33:20.087807",
     "status": "completed"
    },
    "tags": []
   },
   "outputs": [
    {
     "name": "stdout",
     "output_type": "stream",
     "text": [
      "1/1 [==============================] - 0s 95ms/step\n"
     ]
    },
    {
     "data": {
      "text/plain": [
       "array([[0.38844177],\n",
       "       [0.52125645],\n",
       "       [0.39850745]], dtype=float32)"
      ]
     },
     "execution_count": 10,
     "metadata": {},
     "output_type": "execute_result"
    }
   ],
   "source": [
    "# this will pass the first 3 rows of features\n",
    "# of our data as input to make predictions\n",
    "model.predict(X_val.iloc[0:3, :])\n"
   ]
  },
  {
   "cell_type": "code",
   "execution_count": 11,
   "id": "ea0cbc29",
   "metadata": {
    "execution": {
     "iopub.execute_input": "2023-04-26T04:33:20.283176Z",
     "iopub.status.busy": "2023-04-26T04:33:20.282443Z",
     "iopub.status.idle": "2023-04-26T04:33:20.290270Z",
     "shell.execute_reply": "2023-04-26T04:33:20.289127Z"
    },
    "papermill": {
     "duration": 0.022459,
     "end_time": "2023-04-26T04:33:20.292738",
     "exception": false,
     "start_time": "2023-04-26T04:33:20.270279",
     "status": "completed"
    },
    "tags": []
   },
   "outputs": [
    {
     "data": {
      "text/plain": [
       "0     0.4\n",
       "9     0.4\n",
       "12    0.4\n",
       "Name: quality, dtype: float64"
      ]
     },
     "execution_count": 11,
     "metadata": {},
     "output_type": "execute_result"
    }
   ],
   "source": [
    "y_val.iloc[0:3]\n"
   ]
  },
  {
   "cell_type": "markdown",
   "id": "e958548b",
   "metadata": {
    "papermill": {
     "duration": 0.010362,
     "end_time": "2023-04-26T04:33:20.314045",
     "exception": false,
     "start_time": "2023-04-26T04:33:20.303683",
     "status": "completed"
    },
    "tags": []
   },
   "source": [
    "# Visualize Training Vs Validation Loss\n"
   ]
  },
  {
   "cell_type": "code",
   "execution_count": 12,
   "id": "6bfdac17",
   "metadata": {
    "execution": {
     "iopub.execute_input": "2023-04-26T04:33:20.336627Z",
     "iopub.status.busy": "2023-04-26T04:33:20.336167Z",
     "iopub.status.idle": "2023-04-26T04:33:20.873018Z",
     "shell.execute_reply": "2023-04-26T04:33:20.872141Z"
    },
    "papermill": {
     "duration": 0.55093,
     "end_time": "2023-04-26T04:33:20.875355",
     "exception": false,
     "start_time": "2023-04-26T04:33:20.324425",
     "status": "completed"
    },
    "tags": []
   },
   "outputs": [
    {
     "data": {
      "text/plain": [
       "<AxesSubplot:>"
      ]
     },
     "execution_count": 12,
     "metadata": {},
     "output_type": "execute_result"
    },
    {
     "data": {
      "image/png": "[encoded data removed]",
      "text/plain": [
       "<Figure size 640x480 with 1 Axes>"
      ]
     },
     "metadata": {},
     "output_type": "display_data"
    }
   ],
   "source": [
    "loss_df = pd.DataFrame(losses.history)\n",
    "\n",
    "# history stores the loss/val\n",
    "# loss in each epoch\n",
    "\n",
    "# loss_df is a dataframe which\n",
    "# contains the losses so we can\n",
    "# plot it to visualize our model training\n",
    "loss_df.loc[:,['loss','val_loss']].plot()\n"
   ]
  }
 ],
 "metadata": {
  "kernelspec": {
   "display_name": "Python 3",
   "language": "python",
   "name": "python3"
  },
  "language_info": {
   "codemirror_mode": {
    "name": "ipython",
    "version": 3
   },
   "file_extension": ".py",
   "mimetype": "text/x-python",
   "name": "python",
   "nbconvert_exporter": "python",
   "pygments_lexer": "ipython3",
   "version": "3.7.12"
  },
  "papermill": {
   "default_parameters": {},
   "duration": 25.696657,
   "end_time": "2023-04-26T04:33:24.103329",
   "environment_variables": {},
   "exception": null,
   "input_path": "__notebook__.ipynb",
   "output_path": "__notebook__.ipynb",
   "parameters": {},
   "start_time": "2023-04-26T04:32:58.406672",
   "version": "2.4.0"
  }
 },
 "nbformat": 4,
 "nbformat_minor": 5
}
