{
 "cells": [
  {
   "cell_type": "markdown",
   "id": "3c91a13a",
   "metadata": {
    "papermill": {
     "duration": 0.004409,
     "end_time": "2023-05-23T19:18:49.031243",
     "exception": false,
     "start_time": "2023-05-23T19:18:49.026834",
     "status": "completed"
    },
    "tags": []
   },
   "source": [
    "# Importing required libraries"
   ]
  },
  {
   "cell_type": "code",
   "execution_count": 1,
   "id": "e0079a2a",
   "metadata": {
    "_cell_guid": "b1076dfc-b9ad-4769-8c92-a6c4dae69d19",
    "_uuid": "8f2839f25d086af736a60e9eeb907d3b93b6e0e5",
    "execution": {
     "iopub.execute_input": "2023-05-23T19:18:49.041338Z",
     "iopub.status.busy": "2023-05-23T19:18:49.040937Z",
     "iopub.status.idle": "2023-05-23T19:18:58.655237Z",
     "shell.execute_reply": "2023-05-23T19:18:58.654282Z"
    },
    "papermill": {
     "duration": 9.622287,
     "end_time": "2023-05-23T19:18:58.657944",
     "exception": false,
     "start_time": "2023-05-23T19:18:49.035657",
     "status": "completed"
    },
    "tags": []
   },
   "outputs": [
    {
     "name": "stderr",
     "output_type": "stream",
     "text": [
      "/opt/conda/lib/python3.10/site-packages/scipy/__init__.py:146: UserWarning: A NumPy version >=1.16.5 and <1.23.0 is required for this version of SciPy (detected version 1.23.5\n",
      "  warnings.warn(f\"A NumPy version >={np_minversion} and <{np_maxversion}\"\n"
     ]
    }
   ],
   "source": [
    "import numpy as np\n",
    "import pandas as pd\n",
    "import matplotlib.pyplot as plt\n",
    "from sklearn.preprocessing import MinMaxScaler\n",
    "from tensorflow.keras.models import Sequential\n",
    "from tensorflow.keras.layers import LSTM,Dropout,Dense"
   ]
  },
  {
   "cell_type": "markdown",
   "id": "9aa34a96",
   "metadata": {
    "papermill": {
     "duration": 0.003764,
     "end_time": "2023-05-23T19:18:58.665989",
     "exception": false,
     "start_time": "2023-05-23T19:18:58.662225",
     "status": "completed"
    },
    "tags": []
   },
   "source": [
    "# Reading our training data"
   ]
  },
  {
   "cell_type": "code",
   "execution_count": 2,
   "id": "b7d34989",
   "metadata": {
    "execution": {
     "iopub.execute_input": "2023-05-23T19:18:58.677615Z",
     "iopub.status.busy": "2023-05-23T19:18:58.675907Z",
     "iopub.status.idle": "2023-05-23T19:18:58.713796Z",
     "shell.execute_reply": "2023-05-23T19:18:58.712572Z"
    },
    "papermill": {
     "duration": 0.046299,
     "end_time": "2023-05-23T19:18:58.716494",
     "exception": false,
     "start_time": "2023-05-23T19:18:58.670195",
     "status": "completed"
    },
    "tags": []
   },
   "outputs": [],
   "source": [
    "dataset_train = pd.read_csv('/kaggle/input/google-stock-prices-training-and-test-data/Google_Stock_Price_Train.csv')\n",
    "training_set = dataset_train.iloc[:, 1:2].values\n",
    "\n",
    "sc = MinMaxScaler(feature_range = (0, 1))\n",
    "training_set_scaled = sc.fit_transform(training_set)\n",
    "\n",
    "X_train = []\n",
    "y_train = []\n",
    "\n",
    "for i in range(60, 1258):\n",
    "    X_train.append(training_set_scaled[i-60:i, 0])\n",
    "    y_train.append(training_set_scaled[i, 0])"
   ]
  },
  {
   "cell_type": "markdown",
   "id": "50a319a4",
   "metadata": {
    "papermill": {
     "duration": 0.00386,
     "end_time": "2023-05-23T19:18:58.724524",
     "exception": false,
     "start_time": "2023-05-23T19:18:58.720664",
     "status": "completed"
    },
    "tags": []
   },
   "source": [
    "# Getting our training data in shape"
   ]
  },
  {
   "cell_type": "code",
   "execution_count": 3,
   "id": "1c4b0c26",
   "metadata": {
    "execution": {
     "iopub.execute_input": "2023-05-23T19:18:58.734916Z",
     "iopub.status.busy": "2023-05-23T19:18:58.734533Z",
     "iopub.status.idle": "2023-05-23T19:18:58.741176Z",
     "shell.execute_reply": "2023-05-23T19:18:58.740174Z"
    },
    "papermill": {
     "duration": 0.014764,
     "end_time": "2023-05-23T19:18:58.743499",
     "exception": false,
     "start_time": "2023-05-23T19:18:58.728735",
     "status": "completed"
    },
    "tags": []
   },
   "outputs": [],
   "source": [
    "X_train, y_train = np.array(X_train), np.array(y_train)\n",
    "X_train = np.reshape(X_train, (X_train.shape[0], X_train.shape[1], 1))"
   ]
  },
  {
   "cell_type": "markdown",
   "id": "2ce802d7",
   "metadata": {
    "papermill": {
     "duration": 0.003823,
     "end_time": "2023-05-23T19:18:58.751504",
     "exception": false,
     "start_time": "2023-05-23T19:18:58.747681",
     "status": "completed"
    },
    "tags": []
   },
   "source": [
    "# Creating the Stock Price Prediction model"
   ]
  },
  {
   "cell_type": "code",
   "execution_count": 4,
   "id": "fa560a32",
   "metadata": {
    "execution": {
     "iopub.execute_input": "2023-05-23T19:18:58.761524Z",
     "iopub.status.busy": "2023-05-23T19:18:58.761071Z",
     "iopub.status.idle": "2023-05-23T19:19:00.230281Z",
     "shell.execute_reply": "2023-05-23T19:19:00.228250Z"
    },
    "papermill": {
     "duration": 1.477513,
     "end_time": "2023-05-23T19:19:00.233015",
     "exception": false,
     "start_time": "2023-05-23T19:18:58.755502",
     "status": "completed"
    },
    "tags": []
   },
   "outputs": [
    {
     "name": "stdout",
     "output_type": "stream",
     "text": [
      "Model: \"sequential\"\n",
      "_________________________________________________________________\n",
      " Layer (type)                Output Shape              Param #   \n",
      "=================================================================\n",
      " lstm (LSTM)                 (None, 60, 50)            10400     \n",
      "                                                                 \n",
      " dropout (Dropout)           (None, 60, 50)            0         \n",
      "                                                                 \n",
      " lstm_1 (LSTM)               (None, 60, 50)            20200     \n",
      "                                                                 \n",
      " dropout_1 (Dropout)         (None, 60, 50)            0         \n",
      "                                                                 \n",
      " lstm_2 (LSTM)               (None, 60, 50)            20200     \n",
      "                                                                 \n",
      " dropout_2 (Dropout)         (None, 60, 50)            0         \n",
      "                                                                 \n",
      " lstm_3 (LSTM)               (None, 50)                20200     \n",
      "                                                                 \n",
      " dropout_3 (Dropout)         (None, 50)                0         \n",
      "                                                                 \n",
      " dense (Dense)               (None, 1)                 51        \n",
      "                                                                 \n",
      "=================================================================\n",
      "Total params: 71,051\n",
      "Trainable params: 71,051\n",
      "Non-trainable params: 0\n",
      "_________________________________________________________________\n",
      "None\n"
     ]
    }
   ],
   "source": [
    "regressor = Sequential()\n",
    "\n",
    "regressor.add(LSTM(units = 50, return_sequences = True, input_shape = (X_train.shape[1], 1)))\n",
    "regressor.add(Dropout(0.2))\n",
    "\n",
    "regressor.add(LSTM(units = 50, return_sequences = True))\n",
    "regressor.add(Dropout(0.2))\n",
    "\n",
    "regressor.add(LSTM(units = 50, return_sequences = True))\n",
    "regressor.add(Dropout(0.2))\n",
    "\n",
    "regressor.add(LSTM(units = 50))\n",
    "regressor.add(Dropout(0.2))\n",
    "\n",
    "regressor.add(Dense(units = 1))\n",
    "\n",
    "regressor.compile(optimizer = 'adam', loss = 'mean_squared_error')\n",
    "\n",
    "print(regressor.summary())"
   ]
  },
  {
   "cell_type": "markdown",
   "id": "3e0b7ada",
   "metadata": {
    "papermill": {
     "duration": 0.007507,
     "end_time": "2023-05-23T19:19:00.246509",
     "exception": false,
     "start_time": "2023-05-23T19:19:00.239002",
     "status": "completed"
    },
    "tags": []
   },
   "source": [
    "# Training the Stock Price Prediction model"
   ]
  },
  {
   "cell_type": "code",
   "execution_count": 5,
   "id": "d4228a73",
   "metadata": {
    "execution": {
     "iopub.execute_input": "2023-05-23T19:19:00.262572Z",
     "iopub.status.busy": "2023-05-23T19:19:00.261534Z",
     "iopub.status.idle": "2023-05-23T19:26:04.284958Z",
     "shell.execute_reply": "2023-05-23T19:26:04.284084Z"
    },
    "papermill": {
     "duration": 424.033192,
     "end_time": "2023-05-23T19:26:04.287549",
     "exception": false,
     "start_time": "2023-05-23T19:19:00.254357",
     "status": "completed"
    },
    "tags": []
   },
   "outputs": [
    {
     "name": "stdout",
     "output_type": "stream",
     "text": [
      "Epoch 1/100\n",
      "38/38 [==============================] - 13s 110ms/step - loss: 0.0342\n",
      "Epoch 2/100\n",
      "38/38 [==============================] - 4s 108ms/step - loss: 0.0059\n",
      "Epoch 3/100\n",
      "38/38 [==============================] - 4s 107ms/step - loss: 0.0049\n",
      "Epoch 4/100\n",
      "38/38 [==============================] - 4s 109ms/step - loss: 0.0051\n",
      "Epoch 5/100\n",
      "38/38 [==============================] - 4s 114ms/step - loss: 0.0057\n",
      "Epoch 6/100\n",
      "38/38 [==============================] - 5s 118ms/step - loss: 0.0054\n",
      "Epoch 7/100\n",
      "38/38 [==============================] - 4s 114ms/step - loss: 0.0046\n",
      "Epoch 8/100\n",
      "38/38 [==============================] - 4s 108ms/step - loss: 0.0046\n",
      "Epoch 9/100\n",
      "38/38 [==============================] - 4s 111ms/step - loss: 0.0045\n",
      "Epoch 10/100\n",
      "38/38 [==============================] - 4s 106ms/step - loss: 0.0048\n",
      "Epoch 11/100\n",
      "38/38 [==============================] - 4s 106ms/step - loss: 0.0043\n",
      "Epoch 12/100\n",
      "38/38 [==============================] - 4s 107ms/step - loss: 0.0042\n",
      "Epoch 13/100\n",
      "38/38 [==============================] - 4s 110ms/step - loss: 0.0037\n",
      "Epoch 14/100\n",
      "38/38 [==============================] - 4s 115ms/step - loss: 0.0037\n",
      "Epoch 15/100\n",
      "38/38 [==============================] - 4s 110ms/step - loss: 0.0037\n",
      "Epoch 16/100\n",
      "38/38 [==============================] - 4s 110ms/step - loss: 0.0035\n",
      "Epoch 17/100\n",
      "38/38 [==============================] - 4s 109ms/step - loss: 0.0034\n",
      "Epoch 18/100\n",
      "38/38 [==============================] - 4s 107ms/step - loss: 0.0042\n",
      "Epoch 19/100\n",
      "38/38 [==============================] - 4s 111ms/step - loss: 0.0034\n",
      "Epoch 20/100\n",
      "38/38 [==============================] - 4s 107ms/step - loss: 0.0038\n",
      "Epoch 21/100\n",
      "38/38 [==============================] - 4s 113ms/step - loss: 0.0034\n",
      "Epoch 22/100\n",
      "38/38 [==============================] - 4s 111ms/step - loss: 0.0037\n",
      "Epoch 23/100\n",
      "38/38 [==============================] - 4s 111ms/step - loss: 0.0032\n",
      "Epoch 24/100\n",
      "38/38 [==============================] - 4s 111ms/step - loss: 0.0029\n",
      "Epoch 25/100\n",
      "38/38 [==============================] - 4s 109ms/step - loss: 0.0028\n",
      "Epoch 26/100\n",
      "38/38 [==============================] - 4s 110ms/step - loss: 0.0034\n",
      "Epoch 27/100\n",
      "38/38 [==============================] - 4s 112ms/step - loss: 0.0038\n",
      "Epoch 28/100\n",
      "38/38 [==============================] - 4s 111ms/step - loss: 0.0033\n",
      "Epoch 29/100\n",
      "38/38 [==============================] - 5s 119ms/step - loss: 0.0029\n",
      "Epoch 30/100\n",
      "38/38 [==============================] - 4s 110ms/step - loss: 0.0032\n",
      "Epoch 31/100\n",
      "38/38 [==============================] - 4s 109ms/step - loss: 0.0033\n",
      "Epoch 32/100\n",
      "38/38 [==============================] - 4s 114ms/step - loss: 0.0035\n",
      "Epoch 33/100\n",
      "38/38 [==============================] - 4s 110ms/step - loss: 0.0031\n",
      "Epoch 34/100\n",
      "38/38 [==============================] - 4s 110ms/step - loss: 0.0028\n",
      "Epoch 35/100\n",
      "38/38 [==============================] - 4s 111ms/step - loss: 0.0027\n",
      "Epoch 36/100\n",
      "38/38 [==============================] - 4s 117ms/step - loss: 0.0029\n",
      "Epoch 37/100\n",
      "38/38 [==============================] - 4s 112ms/step - loss: 0.0025\n",
      "Epoch 38/100\n",
      "38/38 [==============================] - 4s 108ms/step - loss: 0.0025\n",
      "Epoch 39/100\n",
      "38/38 [==============================] - 4s 108ms/step - loss: 0.0027\n",
      "Epoch 40/100\n",
      "38/38 [==============================] - 4s 110ms/step - loss: 0.0030\n",
      "Epoch 41/100\n",
      "38/38 [==============================] - 4s 108ms/step - loss: 0.0027\n",
      "Epoch 42/100\n",
      "38/38 [==============================] - 4s 108ms/step - loss: 0.0025\n",
      "Epoch 43/100\n",
      "38/38 [==============================] - 4s 110ms/step - loss: 0.0023\n",
      "Epoch 44/100\n",
      "38/38 [==============================] - 4s 113ms/step - loss: 0.0026\n",
      "Epoch 45/100\n",
      "38/38 [==============================] - 4s 109ms/step - loss: 0.0024\n",
      "Epoch 46/100\n",
      "38/38 [==============================] - 4s 107ms/step - loss: 0.0024\n",
      "Epoch 47/100\n",
      "38/38 [==============================] - 4s 109ms/step - loss: 0.0025\n",
      "Epoch 48/100\n",
      "38/38 [==============================] - 4s 110ms/step - loss: 0.0028\n",
      "Epoch 49/100\n",
      "38/38 [==============================] - 4s 108ms/step - loss: 0.0026\n",
      "Epoch 50/100\n",
      "38/38 [==============================] - 4s 110ms/step - loss: 0.0024\n",
      "Epoch 51/100\n",
      "38/38 [==============================] - 4s 116ms/step - loss: 0.0024\n",
      "Epoch 52/100\n",
      "38/38 [==============================] - 4s 108ms/step - loss: 0.0025\n",
      "Epoch 53/100\n",
      "38/38 [==============================] - 4s 109ms/step - loss: 0.0023\n",
      "Epoch 54/100\n",
      "38/38 [==============================] - 4s 108ms/step - loss: 0.0023\n",
      "Epoch 55/100\n",
      "38/38 [==============================] - 4s 107ms/step - loss: 0.0022\n",
      "Epoch 56/100\n",
      "38/38 [==============================] - 4s 110ms/step - loss: 0.0021\n",
      "Epoch 57/100\n",
      "38/38 [==============================] - 4s 110ms/step - loss: 0.0022\n",
      "Epoch 58/100\n",
      "38/38 [==============================] - 4s 111ms/step - loss: 0.0023\n",
      "Epoch 59/100\n",
      "38/38 [==============================] - 4s 112ms/step - loss: 0.0020\n",
      "Epoch 60/100\n",
      "38/38 [==============================] - 4s 109ms/step - loss: 0.0021\n",
      "Epoch 61/100\n",
      "38/38 [==============================] - 4s 110ms/step - loss: 0.0021\n",
      "Epoch 62/100\n",
      "38/38 [==============================] - 4s 107ms/step - loss: 0.0020\n",
      "Epoch 63/100\n",
      "38/38 [==============================] - 4s 107ms/step - loss: 0.0021\n",
      "Epoch 64/100\n",
      "38/38 [==============================] - 4s 106ms/step - loss: 0.0020\n",
      "Epoch 65/100\n",
      "38/38 [==============================] - 4s 106ms/step - loss: 0.0020\n",
      "Epoch 66/100\n",
      "38/38 [==============================] - 4s 112ms/step - loss: 0.0019\n",
      "Epoch 67/100\n",
      "38/38 [==============================] - 4s 106ms/step - loss: 0.0021\n",
      "Epoch 68/100\n",
      "38/38 [==============================] - 4s 105ms/step - loss: 0.0020\n",
      "Epoch 69/100\n",
      "38/38 [==============================] - 4s 106ms/step - loss: 0.0019\n",
      "Epoch 70/100\n",
      "38/38 [==============================] - 4s 108ms/step - loss: 0.0019\n",
      "Epoch 71/100\n",
      "38/38 [==============================] - 4s 106ms/step - loss: 0.0019\n",
      "Epoch 72/100\n",
      "38/38 [==============================] - 4s 109ms/step - loss: 0.0019\n",
      "Epoch 73/100\n",
      "38/38 [==============================] - 4s 106ms/step - loss: 0.0018\n",
      "Epoch 74/100\n",
      "38/38 [==============================] - 4s 111ms/step - loss: 0.0018\n",
      "Epoch 75/100\n",
      "38/38 [==============================] - 4s 107ms/step - loss: 0.0019\n",
      "Epoch 76/100\n",
      "38/38 [==============================] - 4s 105ms/step - loss: 0.0017\n",
      "Epoch 77/100\n",
      "38/38 [==============================] - 4s 106ms/step - loss: 0.0017\n",
      "Epoch 78/100\n",
      "38/38 [==============================] - 4s 109ms/step - loss: 0.0017\n",
      "Epoch 79/100\n",
      "38/38 [==============================] - 4s 108ms/step - loss: 0.0017\n",
      "Epoch 80/100\n",
      "38/38 [==============================] - 4s 112ms/step - loss: 0.0017\n",
      "Epoch 81/100\n",
      "38/38 [==============================] - 4s 113ms/step - loss: 0.0017\n",
      "Epoch 82/100\n",
      "38/38 [==============================] - 4s 113ms/step - loss: 0.0016\n",
      "Epoch 83/100\n",
      "38/38 [==============================] - 4s 103ms/step - loss: 0.0017\n",
      "Epoch 84/100\n",
      "38/38 [==============================] - 4s 104ms/step - loss: 0.0016\n",
      "Epoch 85/100\n",
      "38/38 [==============================] - 4s 105ms/step - loss: 0.0016\n",
      "Epoch 86/100\n",
      "38/38 [==============================] - 4s 102ms/step - loss: 0.0017\n",
      "Epoch 87/100\n",
      "38/38 [==============================] - 4s 104ms/step - loss: 0.0015\n",
      "Epoch 88/100\n",
      "38/38 [==============================] - 4s 104ms/step - loss: 0.0018\n",
      "Epoch 89/100\n",
      "38/38 [==============================] - 4s 106ms/step - loss: 0.0017\n",
      "Epoch 90/100\n",
      "38/38 [==============================] - 4s 110ms/step - loss: 0.0017\n",
      "Epoch 91/100\n",
      "38/38 [==============================] - 4s 107ms/step - loss: 0.0017\n",
      "Epoch 92/100\n",
      "38/38 [==============================] - 4s 104ms/step - loss: 0.0016\n",
      "Epoch 93/100\n",
      "38/38 [==============================] - 4s 107ms/step - loss: 0.0015\n",
      "Epoch 94/100\n",
      "38/38 [==============================] - 4s 105ms/step - loss: 0.0016\n",
      "Epoch 95/100\n",
      "38/38 [==============================] - 4s 105ms/step - loss: 0.0016\n",
      "Epoch 96/100\n",
      "38/38 [==============================] - 4s 109ms/step - loss: 0.0013\n",
      "Epoch 97/100\n",
      "38/38 [==============================] - 4s 110ms/step - loss: 0.0015\n",
      "Epoch 98/100\n",
      "38/38 [==============================] - 4s 113ms/step - loss: 0.0014\n",
      "Epoch 99/100\n",
      "38/38 [==============================] - 4s 109ms/step - loss: 0.0014\n",
      "Epoch 100/100\n",
      "38/38 [==============================] - 4s 107ms/step - loss: 0.0014\n"
     ]
    },
    {
     "data": {
      "text/plain": [
       "<keras.callbacks.History at 0x7e36e4125270>"
      ]
     },
     "execution_count": 5,
     "metadata": {},
     "output_type": "execute_result"
    }
   ],
   "source": [
    "regressor.fit(X_train, y_train, epochs = 100, batch_size = 32)"
   ]
  },
  {
   "cell_type": "markdown",
   "id": "36732c4c",
   "metadata": {
    "papermill": {
     "duration": 0.247075,
     "end_time": "2023-05-23T19:26:04.781085",
     "exception": false,
     "start_time": "2023-05-23T19:26:04.534010",
     "status": "completed"
    },
    "tags": []
   },
   "source": [
    "# Reading the test data"
   ]
  },
  {
   "cell_type": "code",
   "execution_count": 6,
   "id": "4415c708",
   "metadata": {
    "execution": {
     "iopub.execute_input": "2023-05-23T19:26:05.277727Z",
     "iopub.status.busy": "2023-05-23T19:26:05.277321Z",
     "iopub.status.idle": "2023-05-23T19:26:05.315170Z",
     "shell.execute_reply": "2023-05-23T19:26:05.314185Z"
    },
    "papermill": {
     "duration": 0.288761,
     "end_time": "2023-05-23T19:26:05.317898",
     "exception": false,
     "start_time": "2023-05-23T19:26:05.029137",
     "status": "completed"
    },
    "tags": []
   },
   "outputs": [],
   "source": [
    "dataset_test = pd.read_csv('/kaggle/input/google-stock-prices-training-and-test-data/Google_Stock_Price_Test.csv')\n",
    "real_stock_price = dataset_test.iloc[:, 1:2].values"
   ]
  },
  {
   "cell_type": "markdown",
   "id": "79ec8fe5",
   "metadata": {
    "papermill": {
     "duration": 0.248074,
     "end_time": "2023-05-23T19:26:05.814077",
     "exception": false,
     "start_time": "2023-05-23T19:26:05.566003",
     "status": "completed"
    },
    "tags": []
   },
   "source": [
    "# Getting the Stock Price Predictions on test data"
   ]
  },
  {
   "cell_type": "code",
   "execution_count": 7,
   "id": "3bb19bcb",
   "metadata": {
    "execution": {
     "iopub.execute_input": "2023-05-23T19:26:06.378053Z",
     "iopub.status.busy": "2023-05-23T19:26:06.377674Z",
     "iopub.status.idle": "2023-05-23T19:26:08.045782Z",
     "shell.execute_reply": "2023-05-23T19:26:08.044689Z"
    },
    "papermill": {
     "duration": 1.921868,
     "end_time": "2023-05-23T19:26:08.048095",
     "exception": false,
     "start_time": "2023-05-23T19:26:06.126227",
     "status": "completed"
    },
    "tags": []
   },
   "outputs": [
    {
     "name": "stdout",
     "output_type": "stream",
     "text": [
      "1/1 [==============================] - 2s 2s/step\n"
     ]
    }
   ],
   "source": [
    "dataset_total = pd.concat((dataset_train['Open'], dataset_test['Open']), axis = 0)\n",
    "inputs = dataset_total[len(dataset_total) - len(dataset_test) - 60:].values\n",
    "\n",
    "inputs = inputs.reshape(-1,1)\n",
    "inputs = sc.transform(inputs)\n",
    "\n",
    "X_test = []\n",
    "\n",
    "for i in range(60, 80):\n",
    "    X_test.append(inputs[i-60:i, 0])\n",
    "\n",
    "X_test = np.array(X_test)\n",
    "X_test = np.reshape(X_test, (X_test.shape[0], X_test.shape[1], 1))\n",
    "\n",
    "predicted_stock_price = regressor.predict(X_test)\n",
    "predicted_stock_price = sc.inverse_transform(predicted_stock_price)"
   ]
  },
  {
   "cell_type": "markdown",
   "id": "d99104b8",
   "metadata": {
    "papermill": {
     "duration": 0.266542,
     "end_time": "2023-05-23T19:26:08.562571",
     "exception": false,
     "start_time": "2023-05-23T19:26:08.296029",
     "status": "completed"
    },
    "tags": []
   },
   "source": [
    "# Plotting the predictions and real data"
   ]
  },
  {
   "cell_type": "code",
   "execution_count": 8,
   "id": "66e4b760",
   "metadata": {
    "execution": {
     "iopub.execute_input": "2023-05-23T19:26:09.059850Z",
     "iopub.status.busy": "2023-05-23T19:26:09.059456Z",
     "iopub.status.idle": "2023-05-23T19:26:09.350444Z",
     "shell.execute_reply": "2023-05-23T19:26:09.349231Z"
    },
    "papermill": {
     "duration": 0.544172,
     "end_time": "2023-05-23T19:26:09.353220",
     "exception": false,
     "start_time": "2023-05-23T19:26:08.809048",
     "status": "completed"
    },
    "tags": []
   },
   "outputs": [
    {
     "data": {
      "image/png": "[encoded data removed]",
      "text/plain": [
       "<Figure size 640x480 with 1 Axes>"
      ]
     },
     "metadata": {},
     "output_type": "display_data"
    }
   ],
   "source": [
    "plt.plot(real_stock_price, color = 'red', label = 'Real Google Stock Price')\n",
    "plt.plot(predicted_stock_price, color = 'blue', label = 'Predicted Google Stock Price')\n",
    "plt.title('Google Stock Price Prediction')\n",
    "plt.xlabel('Time')\n",
    "plt.ylabel('Google Stock Price')\n",
    "plt.legend()\n",
    "plt.show()"
   ]
  }
 ],
 "metadata": {
  "kernelspec": {
   "display_name": "Python 3",
   "language": "python",
   "name": "python3"
  },
  "language_info": {
   "codemirror_mode": {
    "name": "ipython",
    "version": 3
   },
   "file_extension": ".py",
   "mimetype": "text/x-python",
   "name": "python",
   "nbconvert_exporter": "python",
   "pygments_lexer": "ipython3",
   "version": "3.10.10"
  },
  "papermill": {
   "default_parameters": {},
   "duration": 455.050107,
   "end_time": "2023-05-23T19:26:12.651812",
   "environment_variables": {},
   "exception": null,
   "input_path": "__notebook__.ipynb",
   "output_path": "__notebook__.ipynb",
   "parameters": {},
   "start_time": "2023-05-23T19:18:37.601705",
   "version": "2.4.0"
  }
 },
 "nbformat": 4,
 "nbformat_minor": 5
}
